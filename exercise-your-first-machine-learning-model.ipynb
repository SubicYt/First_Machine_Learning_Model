{
 "cells": [
  {
   "cell_type": "markdown",
   "id": "d3282a1f",
   "metadata": {
    "papermill": {
     "duration": 0.00606,
     "end_time": "2024-10-25T04:05:27.465060",
     "exception": false,
     "start_time": "2024-10-25T04:05:27.459000",
     "status": "completed"
    },
    "tags": []
   },
   "source": [
    "**This notebook is an exercise in the [Introduction to Machine Learning](https://www.kaggle.com/learn/intro-to-machine-learning) course.  You can reference the tutorial at [this link](https://www.kaggle.com/dansbecker/your-first-machine-learning-model).**\n",
    "\n",
    "---\n"
   ]
  },
  {
   "cell_type": "markdown",
   "id": "1b4dc783",
   "metadata": {
    "papermill": {
     "duration": 0.004802,
     "end_time": "2024-10-25T04:05:27.475565",
     "exception": false,
     "start_time": "2024-10-25T04:05:27.470763",
     "status": "completed"
    },
    "tags": []
   },
   "source": [
    "## Recap\n",
    "So far, you have loaded your data and reviewed it with the following code. Run this cell to set up your coding environment where the previous step left off."
   ]
  },
  {
   "cell_type": "code",
   "execution_count": 1,
   "id": "c8eaa817",
   "metadata": {
    "execution": {
     "iopub.execute_input": "2024-10-25T04:05:27.487263Z",
     "iopub.status.busy": "2024-10-25T04:05:27.486857Z",
     "iopub.status.idle": "2024-10-25T04:05:29.661359Z",
     "shell.execute_reply": "2024-10-25T04:05:29.660314Z"
    },
    "papermill": {
     "duration": 2.183188,
     "end_time": "2024-10-25T04:05:29.663741",
     "exception": false,
     "start_time": "2024-10-25T04:05:27.480553",
     "status": "completed"
    },
    "tags": []
   },
   "outputs": [
    {
     "name": "stdout",
     "output_type": "stream",
     "text": [
      "Setup Complete\n"
     ]
    }
   ],
   "source": [
    "# Code you have previously used to load data\n",
    "import pandas as pd\n",
    "\n",
    "# Path of the file to read\n",
    "iowa_file_path = '../input/home-data-for-ml-course/train.csv'\n",
    "\n",
    "home_data = pd.read_csv(iowa_file_path)\n",
    "\n",
    "# Set up code checking\n",
    "from learntools.core import binder\n",
    "binder.bind(globals())\n",
    "from learntools.machine_learning.ex3 import *\n",
    "\n",
    "print(\"Setup Complete\")"
   ]
  },
  {
   "cell_type": "markdown",
   "id": "777f7a76",
   "metadata": {
    "papermill": {
     "duration": 0.00497,
     "end_time": "2024-10-25T04:05:29.674006",
     "exception": false,
     "start_time": "2024-10-25T04:05:29.669036",
     "status": "completed"
    },
    "tags": []
   },
   "source": [
    "# Exercises\n",
    "\n",
    "## Step 1: Specify Prediction Target\n",
    "Select the target variable, which corresponds to the sales price. Save this to a new variable called `y`. You'll need to print a list of the columns to find the name of the column you need.\n"
   ]
  },
  {
   "cell_type": "code",
   "execution_count": 2,
   "id": "0738ee33",
   "metadata": {
    "execution": {
     "iopub.execute_input": "2024-10-25T04:05:29.685799Z",
     "iopub.status.busy": "2024-10-25T04:05:29.685027Z",
     "iopub.status.idle": "2024-10-25T04:05:29.690875Z",
     "shell.execute_reply": "2024-10-25T04:05:29.689622Z"
    },
    "papermill": {
     "duration": 0.013903,
     "end_time": "2024-10-25T04:05:29.692900",
     "exception": false,
     "start_time": "2024-10-25T04:05:29.678997",
     "status": "completed"
    },
    "tags": []
   },
   "outputs": [
    {
     "name": "stdout",
     "output_type": "stream",
     "text": [
      "Index(['Id', 'MSSubClass', 'MSZoning', 'LotFrontage', 'LotArea', 'Street',\n",
      "       'Alley', 'LotShape', 'LandContour', 'Utilities', 'LotConfig',\n",
      "       'LandSlope', 'Neighborhood', 'Condition1', 'Condition2', 'BldgType',\n",
      "       'HouseStyle', 'OverallQual', 'OverallCond', 'YearBuilt', 'YearRemodAdd',\n",
      "       'RoofStyle', 'RoofMatl', 'Exterior1st', 'Exterior2nd', 'MasVnrType',\n",
      "       'MasVnrArea', 'ExterQual', 'ExterCond', 'Foundation', 'BsmtQual',\n",
      "       'BsmtCond', 'BsmtExposure', 'BsmtFinType1', 'BsmtFinSF1',\n",
      "       'BsmtFinType2', 'BsmtFinSF2', 'BsmtUnfSF', 'TotalBsmtSF', 'Heating',\n",
      "       'HeatingQC', 'CentralAir', 'Electrical', '1stFlrSF', '2ndFlrSF',\n",
      "       'LowQualFinSF', 'GrLivArea', 'BsmtFullBath', 'BsmtHalfBath', 'FullBath',\n",
      "       'HalfBath', 'BedroomAbvGr', 'KitchenAbvGr', 'KitchenQual',\n",
      "       'TotRmsAbvGrd', 'Functional', 'Fireplaces', 'FireplaceQu', 'GarageType',\n",
      "       'GarageYrBlt', 'GarageFinish', 'GarageCars', 'GarageArea', 'GarageQual',\n",
      "       'GarageCond', 'PavedDrive', 'WoodDeckSF', 'OpenPorchSF',\n",
      "       'EnclosedPorch', '3SsnPorch', 'ScreenPorch', 'PoolArea', 'PoolQC',\n",
      "       'Fence', 'MiscFeature', 'MiscVal', 'MoSold', 'YrSold', 'SaleType',\n",
      "       'SaleCondition', 'SalePrice'],\n",
      "      dtype='object')\n"
     ]
    }
   ],
   "source": [
    "# print the list of columns in the dataset to find the name of the prediction target\n",
    "print(home_data.columns)"
   ]
  },
  {
   "cell_type": "markdown",
   "id": "07b661bf",
   "metadata": {
    "papermill": {
     "duration": 0.00486,
     "end_time": "2024-10-25T04:05:29.703769",
     "exception": false,
     "start_time": "2024-10-25T04:05:29.698909",
     "status": "completed"
    },
    "tags": []
   },
   "source": []
  },
  {
   "cell_type": "code",
   "execution_count": 3,
   "id": "e2f09691",
   "metadata": {
    "execution": {
     "iopub.execute_input": "2024-10-25T04:05:29.715333Z",
     "iopub.status.busy": "2024-10-25T04:05:29.714972Z",
     "iopub.status.idle": "2024-10-25T04:05:29.728377Z",
     "shell.execute_reply": "2024-10-25T04:05:29.727441Z"
    },
    "papermill": {
     "duration": 0.021563,
     "end_time": "2024-10-25T04:05:29.730425",
     "exception": false,
     "start_time": "2024-10-25T04:05:29.708862",
     "status": "completed"
    },
    "tags": []
   },
   "outputs": [
    {
     "data": {
      "application/javascript": [
       "parent.postMessage({\"jupyterEvent\": \"custom.exercise_interaction\", \"data\": {\"outcomeType\": 1, \"valueTowardsCompletion\": 0.25, \"interactionType\": 1, \"questionType\": 2, \"questionId\": \"1_SetTarget\", \"learnToolsVersion\": \"0.3.4\", \"failureMessage\": \"\", \"exceptionClass\": \"\", \"trace\": \"\"}}, \"*\")"
      ],
      "text/plain": [
       "<IPython.core.display.Javascript object>"
      ]
     },
     "metadata": {},
     "output_type": "display_data"
    },
    {
     "data": {
      "text/markdown": [
       "<span style=\"color:#33cc33\">Correct</span>"
      ],
      "text/plain": [
       "Correct"
      ]
     },
     "metadata": {},
     "output_type": "display_data"
    }
   ],
   "source": [
    "y = home_data.SalePrice\n",
    "# Check your answer\n",
    "step_1.check()"
   ]
  },
  {
   "cell_type": "code",
   "execution_count": 4,
   "id": "f6478132",
   "metadata": {
    "collapsed": true,
    "execution": {
     "iopub.execute_input": "2024-10-25T04:05:29.742357Z",
     "iopub.status.busy": "2024-10-25T04:05:29.742017Z",
     "iopub.status.idle": "2024-10-25T04:05:29.745893Z",
     "shell.execute_reply": "2024-10-25T04:05:29.745098Z"
    },
    "jupyter": {
     "outputs_hidden": true
    },
    "papermill": {
     "duration": 0.012141,
     "end_time": "2024-10-25T04:05:29.747908",
     "exception": false,
     "start_time": "2024-10-25T04:05:29.735767",
     "status": "completed"
    },
    "tags": []
   },
   "outputs": [],
   "source": [
    "# The lines below will show you a hint or the solution.\n",
    "# step_1.hint() \n",
    "# step_1.solution()"
   ]
  },
  {
   "cell_type": "markdown",
   "id": "608bcabf",
   "metadata": {
    "papermill": {
     "duration": 0.005195,
     "end_time": "2024-10-25T04:05:29.758588",
     "exception": false,
     "start_time": "2024-10-25T04:05:29.753393",
     "status": "completed"
    },
    "tags": []
   },
   "source": [
    "## Step 2: Create X\n",
    "Now you will create a DataFrame called `X` holding the predictive features.\n",
    "\n",
    "Since you want only some columns from the original data, you'll first create a list with the names of the columns you want in `X`.\n",
    "\n",
    "You'll use just the following columns in the list (you can copy and paste the whole list to save some typing, though you'll still need to add quotes):\n",
    "  * LotArea\n",
    "  * YearBuilt\n",
    "  * 1stFlrSF\n",
    "  * 2ndFlrSF\n",
    "  * FullBath\n",
    "  * BedroomAbvGr\n",
    "  * TotRmsAbvGrd\n",
    "\n",
    "After you've created that list of features, use it to create the DataFrame that you'll use to fit the model."
   ]
  },
  {
   "cell_type": "code",
   "execution_count": 5,
   "id": "7a12d672",
   "metadata": {
    "execution": {
     "iopub.execute_input": "2024-10-25T04:05:29.770975Z",
     "iopub.status.busy": "2024-10-25T04:05:29.770613Z",
     "iopub.status.idle": "2024-10-25T04:05:29.782535Z",
     "shell.execute_reply": "2024-10-25T04:05:29.781528Z"
    },
    "papermill": {
     "duration": 0.020558,
     "end_time": "2024-10-25T04:05:29.784522",
     "exception": false,
     "start_time": "2024-10-25T04:05:29.763964",
     "status": "completed"
    },
    "tags": []
   },
   "outputs": [
    {
     "data": {
      "application/javascript": [
       "parent.postMessage({\"jupyterEvent\": \"custom.exercise_interaction\", \"data\": {\"outcomeType\": 1, \"valueTowardsCompletion\": 0.25, \"interactionType\": 1, \"questionType\": 2, \"questionId\": \"2_SelectPredictionData\", \"learnToolsVersion\": \"0.3.4\", \"failureMessage\": \"\", \"exceptionClass\": \"\", \"trace\": \"\"}}, \"*\")"
      ],
      "text/plain": [
       "<IPython.core.display.Javascript object>"
      ]
     },
     "metadata": {},
     "output_type": "display_data"
    },
    {
     "data": {
      "text/markdown": [
       "<span style=\"color:#33cc33\">Correct</span>"
      ],
      "text/plain": [
       "Correct"
      ]
     },
     "metadata": {},
     "output_type": "display_data"
    }
   ],
   "source": [
    "# Create the list of features below\n",
    "\n",
    "feature_names = [\"LotArea\", \"YearBuilt\", \"1stFlrSF\", \"2ndFlrSF\", \"FullBath\", \"BedroomAbvGr\",\"TotRmsAbvGrd\"]\n",
    "\n",
    "# Select data corresponding to features in feature_names\n",
    "X = home_data[feature_names]\n",
    "\n",
    "\n",
    "# Check your answer\n",
    "step_2.check()"
   ]
  },
  {
   "cell_type": "code",
   "execution_count": 6,
   "id": "cada9f0b",
   "metadata": {
    "collapsed": true,
    "execution": {
     "iopub.execute_input": "2024-10-25T04:05:29.797746Z",
     "iopub.status.busy": "2024-10-25T04:05:29.797052Z",
     "iopub.status.idle": "2024-10-25T04:05:29.801012Z",
     "shell.execute_reply": "2024-10-25T04:05:29.800107Z"
    },
    "jupyter": {
     "outputs_hidden": true
    },
    "papermill": {
     "duration": 0.012637,
     "end_time": "2024-10-25T04:05:29.802899",
     "exception": false,
     "start_time": "2024-10-25T04:05:29.790262",
     "status": "completed"
    },
    "tags": []
   },
   "outputs": [],
   "source": [
    "# step_2.hint()\n",
    "# step_2.solution()"
   ]
  },
  {
   "cell_type": "markdown",
   "id": "e8b953b2",
   "metadata": {
    "papermill": {
     "duration": 0.005578,
     "end_time": "2024-10-25T04:05:29.814223",
     "exception": false,
     "start_time": "2024-10-25T04:05:29.808645",
     "status": "completed"
    },
    "tags": []
   },
   "source": [
    "## Review Data\n",
    "Before building a model, take a quick look at **X** to verify it looks sensible"
   ]
  },
  {
   "cell_type": "code",
   "execution_count": 7,
   "id": "f1b4d879",
   "metadata": {
    "execution": {
     "iopub.execute_input": "2024-10-25T04:05:29.827477Z",
     "iopub.status.busy": "2024-10-25T04:05:29.826670Z",
     "iopub.status.idle": "2024-10-25T04:05:29.858000Z",
     "shell.execute_reply": "2024-10-25T04:05:29.857051Z"
    },
    "papermill": {
     "duration": 0.040193,
     "end_time": "2024-10-25T04:05:29.860074",
     "exception": false,
     "start_time": "2024-10-25T04:05:29.819881",
     "status": "completed"
    },
    "tags": []
   },
   "outputs": [
    {
     "data": {
      "text/html": [
       "<div>\n",
       "<style scoped>\n",
       "    .dataframe tbody tr th:only-of-type {\n",
       "        vertical-align: middle;\n",
       "    }\n",
       "\n",
       "    .dataframe tbody tr th {\n",
       "        vertical-align: top;\n",
       "    }\n",
       "\n",
       "    .dataframe thead th {\n",
       "        text-align: right;\n",
       "    }\n",
       "</style>\n",
       "<table border=\"1\" class=\"dataframe\">\n",
       "  <thead>\n",
       "    <tr style=\"text-align: right;\">\n",
       "      <th></th>\n",
       "      <th>LotArea</th>\n",
       "      <th>YearBuilt</th>\n",
       "      <th>1stFlrSF</th>\n",
       "      <th>2ndFlrSF</th>\n",
       "      <th>FullBath</th>\n",
       "      <th>BedroomAbvGr</th>\n",
       "      <th>TotRmsAbvGrd</th>\n",
       "    </tr>\n",
       "  </thead>\n",
       "  <tbody>\n",
       "    <tr>\n",
       "      <th>0</th>\n",
       "      <td>8450</td>\n",
       "      <td>2003</td>\n",
       "      <td>856</td>\n",
       "      <td>854</td>\n",
       "      <td>2</td>\n",
       "      <td>3</td>\n",
       "      <td>8</td>\n",
       "    </tr>\n",
       "    <tr>\n",
       "      <th>1</th>\n",
       "      <td>9600</td>\n",
       "      <td>1976</td>\n",
       "      <td>1262</td>\n",
       "      <td>0</td>\n",
       "      <td>2</td>\n",
       "      <td>3</td>\n",
       "      <td>6</td>\n",
       "    </tr>\n",
       "    <tr>\n",
       "      <th>2</th>\n",
       "      <td>11250</td>\n",
       "      <td>2001</td>\n",
       "      <td>920</td>\n",
       "      <td>866</td>\n",
       "      <td>2</td>\n",
       "      <td>3</td>\n",
       "      <td>6</td>\n",
       "    </tr>\n",
       "    <tr>\n",
       "      <th>3</th>\n",
       "      <td>9550</td>\n",
       "      <td>1915</td>\n",
       "      <td>961</td>\n",
       "      <td>756</td>\n",
       "      <td>1</td>\n",
       "      <td>3</td>\n",
       "      <td>7</td>\n",
       "    </tr>\n",
       "    <tr>\n",
       "      <th>4</th>\n",
       "      <td>14260</td>\n",
       "      <td>2000</td>\n",
       "      <td>1145</td>\n",
       "      <td>1053</td>\n",
       "      <td>2</td>\n",
       "      <td>4</td>\n",
       "      <td>9</td>\n",
       "    </tr>\n",
       "  </tbody>\n",
       "</table>\n",
       "</div>"
      ],
      "text/plain": [
       "   LotArea  YearBuilt  1stFlrSF  2ndFlrSF  FullBath  BedroomAbvGr  \\\n",
       "0     8450       2003       856       854         2             3   \n",
       "1     9600       1976      1262         0         2             3   \n",
       "2    11250       2001       920       866         2             3   \n",
       "3     9550       1915       961       756         1             3   \n",
       "4    14260       2000      1145      1053         2             4   \n",
       "\n",
       "   TotRmsAbvGrd  \n",
       "0             8  \n",
       "1             6  \n",
       "2             6  \n",
       "3             7  \n",
       "4             9  "
      ]
     },
     "execution_count": 7,
     "metadata": {},
     "output_type": "execute_result"
    }
   ],
   "source": [
    "# Review data\n",
    "# print description or statistics from X\n",
    "#print(_)\n",
    "\n",
    "X.describe()\n",
    "\n",
    "# print the top few lines\n",
    "#print(_)\n",
    "\n",
    "X.head()"
   ]
  },
  {
   "cell_type": "markdown",
   "id": "316b1554",
   "metadata": {
    "papermill": {
     "duration": 0.005899,
     "end_time": "2024-10-25T04:05:29.872089",
     "exception": false,
     "start_time": "2024-10-25T04:05:29.866190",
     "status": "completed"
    },
    "tags": []
   },
   "source": [
    "## Step 3: Specify and Fit Model\n",
    "Create a `DecisionTreeRegressor` and save it iowa_model. Ensure you've done the relevant import from sklearn to run this command.\n",
    "\n",
    "Then fit the model you just created using the data in `X` and `y` that you saved above."
   ]
  },
  {
   "cell_type": "markdown",
   "id": "4da4c3dc",
   "metadata": {
    "papermill": {
     "duration": 0.005761,
     "end_time": "2024-10-25T04:05:29.883699",
     "exception": false,
     "start_time": "2024-10-25T04:05:29.877938",
     "status": "completed"
    },
    "tags": []
   },
   "source": []
  },
  {
   "cell_type": "markdown",
   "id": "b48e4f86",
   "metadata": {
    "papermill": {
     "duration": 0.005652,
     "end_time": "2024-10-25T04:05:29.895269",
     "exception": false,
     "start_time": "2024-10-25T04:05:29.889617",
     "status": "completed"
    },
    "tags": []
   },
   "source": []
  },
  {
   "cell_type": "markdown",
   "id": "1f6ff2df",
   "metadata": {
    "papermill": {
     "duration": 0.005588,
     "end_time": "2024-10-25T04:05:29.906623",
     "exception": false,
     "start_time": "2024-10-25T04:05:29.901035",
     "status": "completed"
    },
    "tags": []
   },
   "source": []
  },
  {
   "cell_type": "markdown",
   "id": "121ad5e1",
   "metadata": {
    "papermill": {
     "duration": 0.007184,
     "end_time": "2024-10-25T04:05:29.919599",
     "exception": false,
     "start_time": "2024-10-25T04:05:29.912415",
     "status": "completed"
    },
    "tags": []
   },
   "source": []
  },
  {
   "cell_type": "code",
   "execution_count": 8,
   "id": "4505385a",
   "metadata": {
    "execution": {
     "iopub.execute_input": "2024-10-25T04:05:29.933995Z",
     "iopub.status.busy": "2024-10-25T04:05:29.933069Z",
     "iopub.status.idle": "2024-10-25T04:05:29.952782Z",
     "shell.execute_reply": "2024-10-25T04:05:29.951812Z"
    },
    "papermill": {
     "duration": 0.029271,
     "end_time": "2024-10-25T04:05:29.954793",
     "exception": false,
     "start_time": "2024-10-25T04:05:29.925522",
     "status": "completed"
    },
    "tags": []
   },
   "outputs": [
    {
     "data": {
      "application/javascript": [
       "parent.postMessage({\"jupyterEvent\": \"custom.exercise_interaction\", \"data\": {\"outcomeType\": 1, \"valueTowardsCompletion\": 0.25, \"interactionType\": 1, \"questionType\": 2, \"questionId\": \"3_CreateModel\", \"learnToolsVersion\": \"0.3.4\", \"failureMessage\": \"\", \"exceptionClass\": \"\", \"trace\": \"\"}}, \"*\")"
      ],
      "text/plain": [
       "<IPython.core.display.Javascript object>"
      ]
     },
     "metadata": {},
     "output_type": "display_data"
    },
    {
     "data": {
      "text/markdown": [
       "<span style=\"color:#33cc33\">Correct</span>"
      ],
      "text/plain": [
       "Correct"
      ]
     },
     "metadata": {},
     "output_type": "display_data"
    }
   ],
   "source": [
    "from sklearn.tree import DecisionTreeRegressor\n",
    "\n",
    "#specify the model. \n",
    "#For model reproducibility, set a numeric value for random_state when specifying the model\n",
    "iowa_model = DecisionTreeRegressor(random_state=1)\n",
    "\n",
    "# Fit the model\n",
    "iowa_model.fit(X,y)\n",
    "\n",
    "# Check your answer\n",
    "step_3.check()"
   ]
  },
  {
   "cell_type": "code",
   "execution_count": 9,
   "id": "c2fb8b5f",
   "metadata": {
    "collapsed": true,
    "execution": {
     "iopub.execute_input": "2024-10-25T04:05:29.969605Z",
     "iopub.status.busy": "2024-10-25T04:05:29.968715Z",
     "iopub.status.idle": "2024-10-25T04:05:29.972945Z",
     "shell.execute_reply": "2024-10-25T04:05:29.972043Z"
    },
    "jupyter": {
     "outputs_hidden": true
    },
    "papermill": {
     "duration": 0.013805,
     "end_time": "2024-10-25T04:05:29.974939",
     "exception": false,
     "start_time": "2024-10-25T04:05:29.961134",
     "status": "completed"
    },
    "tags": []
   },
   "outputs": [],
   "source": [
    "# step_3.hint()\n",
    "# step_3.solution()"
   ]
  },
  {
   "cell_type": "markdown",
   "id": "ec6bfa31",
   "metadata": {
    "papermill": {
     "duration": 0.006325,
     "end_time": "2024-10-25T04:05:29.987559",
     "exception": false,
     "start_time": "2024-10-25T04:05:29.981234",
     "status": "completed"
    },
    "tags": []
   },
   "source": [
    "## Step 4: Make Predictions\n",
    "Make predictions with the model's `predict` command using `X` as the data. Save the results to a variable called `predictions`."
   ]
  },
  {
   "cell_type": "code",
   "execution_count": 10,
   "id": "a8ee047a",
   "metadata": {
    "collapsed": true,
    "execution": {
     "iopub.execute_input": "2024-10-25T04:05:30.002094Z",
     "iopub.status.busy": "2024-10-25T04:05:30.001153Z",
     "iopub.status.idle": "2024-10-25T04:05:30.010071Z",
     "shell.execute_reply": "2024-10-25T04:05:30.009119Z"
    },
    "jupyter": {
     "outputs_hidden": true
    },
    "papermill": {
     "duration": 0.018449,
     "end_time": "2024-10-25T04:05:30.012198",
     "exception": false,
     "start_time": "2024-10-25T04:05:29.993749",
     "status": "completed"
    },
    "tags": []
   },
   "outputs": [
    {
     "name": "stdout",
     "output_type": "stream",
     "text": [
      "<learntools.core.constants.PlaceholderValue object at 0x7a5a22279120>\n"
     ]
    },
    {
     "data": {
      "application/javascript": [
       "parent.postMessage({\"jupyterEvent\": \"custom.exercise_interaction\", \"data\": {\"outcomeType\": 4, \"interactionType\": 1, \"questionType\": 2, \"questionId\": \"4_MakePredictions\", \"learnToolsVersion\": \"0.3.4\", \"valueTowardsCompletion\": 0.0, \"failureMessage\": \"\", \"exceptionClass\": \"\", \"trace\": \"\"}}, \"*\")"
      ],
      "text/plain": [
       "<IPython.core.display.Javascript object>"
      ]
     },
     "metadata": {},
     "output_type": "display_data"
    },
    {
     "data": {
      "text/markdown": [
       "<span style=\"color:#ccaa33\">Check:</span> When you've updated the starter code, `check()` will tell you whether your code is correct. You need to update the code that creates variables `predictions`, `iowa_model`, `X`"
      ],
      "text/plain": [
       "Check: When you've updated the starter code, `check()` will tell you whether your code is correct. You need to update the code that creates variables `predictions`, `iowa_model`, `X`"
      ]
     },
     "metadata": {},
     "output_type": "display_data"
    }
   ],
   "source": [
    "predictions = ____\n",
    "print(predictions)\n",
    "\n",
    "# Check your answer\n",
    "step_4.check()"
   ]
  },
  {
   "cell_type": "code",
   "execution_count": 11,
   "id": "a6ff04c8",
   "metadata": {
    "collapsed": true,
    "execution": {
     "iopub.execute_input": "2024-10-25T04:05:30.026924Z",
     "iopub.status.busy": "2024-10-25T04:05:30.026563Z",
     "iopub.status.idle": "2024-10-25T04:05:30.030554Z",
     "shell.execute_reply": "2024-10-25T04:05:30.029635Z"
    },
    "jupyter": {
     "outputs_hidden": true
    },
    "papermill": {
     "duration": 0.013722,
     "end_time": "2024-10-25T04:05:30.032546",
     "exception": false,
     "start_time": "2024-10-25T04:05:30.018824",
     "status": "completed"
    },
    "tags": []
   },
   "outputs": [],
   "source": [
    "# step_4.hint()\n",
    "# step_4.solution()"
   ]
  },
  {
   "cell_type": "markdown",
   "id": "23154a44",
   "metadata": {
    "papermill": {
     "duration": 0.006874,
     "end_time": "2024-10-25T04:05:30.046070",
     "exception": false,
     "start_time": "2024-10-25T04:05:30.039196",
     "status": "completed"
    },
    "tags": []
   },
   "source": [
    "## Think About Your Results\n",
    "\n",
    "Use the `head` method to compare the top few predictions to the actual home values (in `y`) for those same homes. Anything surprising?\n"
   ]
  },
  {
   "cell_type": "code",
   "execution_count": 12,
   "id": "9d963d48",
   "metadata": {
    "execution": {
     "iopub.execute_input": "2024-10-25T04:05:30.060584Z",
     "iopub.status.busy": "2024-10-25T04:05:30.060195Z",
     "iopub.status.idle": "2024-10-25T04:05:30.064503Z",
     "shell.execute_reply": "2024-10-25T04:05:30.063566Z"
    },
    "papermill": {
     "duration": 0.013946,
     "end_time": "2024-10-25T04:05:30.066547",
     "exception": false,
     "start_time": "2024-10-25T04:05:30.052601",
     "status": "completed"
    },
    "tags": []
   },
   "outputs": [],
   "source": [
    "# You can write code in this cell\n"
   ]
  },
  {
   "cell_type": "markdown",
   "id": "caebeba3",
   "metadata": {
    "papermill": {
     "duration": 0.006751,
     "end_time": "2024-10-25T04:05:30.080113",
     "exception": false,
     "start_time": "2024-10-25T04:05:30.073362",
     "status": "completed"
    },
    "tags": []
   },
   "source": [
    "It's natural to ask how accurate the model's predictions will be and how you can improve that. That will be you're next step.\n",
    "\n",
    "# Keep Going\n",
    "\n",
    "You are ready for **[Model Validation](https://www.kaggle.com/dansbecker/model-validation).**\n"
   ]
  },
  {
   "cell_type": "markdown",
   "id": "561c3734",
   "metadata": {
    "papermill": {
     "duration": 0.00639,
     "end_time": "2024-10-25T04:05:30.093108",
     "exception": false,
     "start_time": "2024-10-25T04:05:30.086718",
     "status": "completed"
    },
    "tags": []
   },
   "source": [
    "---\n",
    "\n",
    "\n",
    "\n",
    "\n",
    "*Have questions or comments? Visit the [course discussion forum](https://www.kaggle.com/learn/intro-to-machine-learning/discussion) to chat with other learners.*"
   ]
  }
 ],
 "metadata": {
  "kaggle": {
   "accelerator": "none",
   "dataSources": [
    {
     "databundleVersionId": 111096,
     "sourceId": 10211,
     "sourceType": "competition"
    },
    {
     "datasetId": 11167,
     "sourceId": 15520,
     "sourceType": "datasetVersion"
    },
    {
     "datasetId": 2709,
     "sourceId": 38454,
     "sourceType": "datasetVersion"
    }
   ],
   "isGpuEnabled": false,
   "isInternetEnabled": false,
   "language": "python",
   "sourceType": "notebook"
  },
  "kernelspec": {
   "display_name": "Python 3",
   "language": "python",
   "name": "python3"
  },
  "language_info": {
   "codemirror_mode": {
    "name": "ipython",
    "version": 3
   },
   "file_extension": ".py",
   "mimetype": "text/x-python",
   "name": "python",
   "nbconvert_exporter": "python",
   "pygments_lexer": "ipython3",
   "version": "3.10.14"
  },
  "papermill": {
   "default_parameters": {},
   "duration": 5.634993,
   "end_time": "2024-10-25T04:05:30.618934",
   "environment_variables": {},
   "exception": null,
   "input_path": "__notebook__.ipynb",
   "output_path": "__notebook__.ipynb",
   "parameters": {},
   "start_time": "2024-10-25T04:05:24.983941",
   "version": "2.6.0"
  }
 },
 "nbformat": 4,
 "nbformat_minor": 5
}
